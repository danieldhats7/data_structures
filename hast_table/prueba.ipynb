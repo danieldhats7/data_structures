{
 "cells": [
  {
   "cell_type": "code",
   "execution_count": 1,
   "metadata": {},
   "outputs": [],
   "source": [
    "from test_hash_table import *\n",
    "from HashTable import *\n",
    "import numpy as np\n",
    "np.random.seed(42)"
   ]
  },
  {
   "cell_type": "markdown",
   "metadata": {},
   "source": [
    "### Creating set for test"
   ]
  },
  {
   "cell_type": "code",
   "execution_count": 2,
   "metadata": {},
   "outputs": [
    {
     "data": {
      "text/plain": [
       "100"
      ]
     },
     "execution_count": 2,
     "metadata": {},
     "output_type": "execute_result"
    }
   ],
   "source": [
    "d = {}\n",
    "for i in range(100):\n",
    "    letra = ''\n",
    "    for _ in range(np.random.randint(4,7)):\n",
    "        letra += chr(np.random.randint(97,123))\n",
    "    d[letra] = np.random.randint(32,128)\n",
    "len(d)"
   ]
  },
  {
   "cell_type": "markdown",
   "metadata": {},
   "source": [
    "### Create Hash Table and inserting elements of te dataset"
   ]
  },
  {
   "cell_type": "code",
   "execution_count": 3,
   "metadata": {},
   "outputs": [],
   "source": [
    "table = HashTable(100)"
   ]
  },
  {
   "cell_type": "code",
   "execution_count": 4,
   "metadata": {},
   "outputs": [],
   "source": [
    "for key,value in d.items():\n",
    "    table.insert(key, value)"
   ]
  },
  {
   "cell_type": "code",
   "execution_count": 5,
   "metadata": {},
   "outputs": [
    {
     "data": {
      "text/plain": [
       "100"
      ]
     },
     "execution_count": 5,
     "metadata": {},
     "output_type": "execute_result"
    }
   ],
   "source": [
    "table.size"
   ]
  },
  {
   "cell_type": "code",
   "execution_count": 6,
   "metadata": {},
   "outputs": [
    {
     "data": {
      "text/plain": [
       "dict_keys(['tokhug', 'kkxudh', 'vubxlf', 'alzv', 'jpoo', 'lwtyce', 'uigrdy', 'rzizu', 'glhocn', 'hdbfv', 'rzlbj', 'pohnw', 'pmro', 'ymiom', 'gixa', 'ksqhcc', 'ejgzig', 'apwwx', 'lhvcac', 'caezw', 'ioozjm', 'gqtdew', 'dmgsvb', 'yufl', 'kzwyg', 'ayyt', 'cgfh', 'easj', 'vxitqq', 'gbcqe', 'qbbv', 'aasb', 'fwdwk', 'qfxetb', 'kppai', 'pctds', 'stgtia', 'rhakyy', 'jcgpzp', 'bapl', 'wiic', 'txvxax', 'hdfh', 'cpycy', 'nrbvc', 'idad', 'uptxh', 'qaplsv', 'ffmsv', 'buaoae', 'dcqqln', 'iexqnu', 'atuwac', 'jvzc', 'ovwbj', 'qhaik', 'jwzcry', 'zgyd', 'hnpn', 'wobbwv', 'zvzz', 'tjfo', 'eahull', 'dfmtoc', 'rjsq', 'zwzezu', 'iluazz', 'bvpyhm', 'gevw', 'psevy', 'eoqnt', 'zpugd', 'ewzjv', 'tjzsz', 'xemd', 'bqtxlr', 'aske', 'aahjkl', 'lnbs', 'qzhzjz', 'igdzur', 'xdyu', 'eixcq', 'qgxwe', 'wmwy', 'qtpy', 'sqdl', 'slig', 'tszop', 'lytudu', 'gmuj', 'nzecwk', 'olijz', 'fgnm', 'irzbe', 'fshp', 'tqgym', 'slvgj', 'gcmmrz', 'igac'])"
      ]
     },
     "execution_count": 6,
     "metadata": {},
     "output_type": "execute_result"
    }
   ],
   "source": [
    "d.keys()"
   ]
  },
  {
   "cell_type": "markdown",
   "metadata": {},
   "source": [
    "## Find"
   ]
  },
  {
   "cell_type": "code",
   "execution_count": 12,
   "metadata": {},
   "outputs": [
    {
     "data": {
      "text/plain": [
       "'Not Found \"hola\"'"
      ]
     },
     "execution_count": 12,
     "metadata": {},
     "output_type": "execute_result"
    }
   ],
   "source": [
    "table.find('hola')"
   ]
  },
  {
   "cell_type": "code",
   "execution_count": 13,
   "metadata": {},
   "outputs": [
    {
     "data": {
      "text/plain": [
       "114"
      ]
     },
     "execution_count": 13,
     "metadata": {},
     "output_type": "execute_result"
    }
   ],
   "source": [
    "table.find('tokhug')"
   ]
  },
  {
   "cell_type": "markdown",
   "metadata": {},
   "source": [
    "## Remove"
   ]
  },
  {
   "cell_type": "code",
   "execution_count": 15,
   "metadata": {},
   "outputs": [
    {
     "data": {
      "text/plain": [
       "'Not Found (mama)'"
      ]
     },
     "execution_count": 15,
     "metadata": {},
     "output_type": "execute_result"
    }
   ],
   "source": [
    "table.remove('mama')"
   ]
  },
  {
   "cell_type": "code",
   "execution_count": 16,
   "metadata": {},
   "outputs": [
    {
     "data": {
      "text/plain": [
       "111"
      ]
     },
     "execution_count": 16,
     "metadata": {},
     "output_type": "execute_result"
    }
   ],
   "source": [
    "table.remove('nrbvc')"
   ]
  },
  {
   "cell_type": "code",
   "execution_count": 19,
   "metadata": {},
   "outputs": [
    {
     "name": "stdout",
     "output_type": "stream",
     "text": [
      "<Node: (ymiom, 96), next: True>\n",
      "<Node: (apwwx, 68), next: True>\n",
      "<Node: (kzwyg, 93), next: True>\n"
     ]
    }
   ],
   "source": [
    "print(table.buckets[0])\n",
    "print(table.buckets[0].next)\n",
    "print(table.buckets[0].next.next)"
   ]
  },
  {
   "cell_type": "markdown",
   "metadata": {},
   "source": [
    "#### Remove first element on fisrt bucket"
   ]
  },
  {
   "cell_type": "code",
   "execution_count": 20,
   "metadata": {},
   "outputs": [
    {
     "data": {
      "text/plain": [
       "96"
      ]
     },
     "execution_count": 20,
     "metadata": {},
     "output_type": "execute_result"
    }
   ],
   "source": [
    "table.remove('ymiom')"
   ]
  },
  {
   "cell_type": "code",
   "execution_count": 21,
   "metadata": {},
   "outputs": [
    {
     "name": "stdout",
     "output_type": "stream",
     "text": [
      "<Node: (apwwx, 68), next: True>\n",
      "<Node: (kzwyg, 93), next: True>\n",
      "<Node: (easj, 75), next: True>\n"
     ]
    }
   ],
   "source": [
    "print(table.buckets[0])\n",
    "print(table.buckets[0].next)\n",
    "print(table.buckets[0].next.next)"
   ]
  },
  {
   "cell_type": "markdown",
   "metadata": {},
   "source": [
    "#### Remove a intermetiate element on first bucket"
   ]
  },
  {
   "cell_type": "code",
   "execution_count": 22,
   "metadata": {},
   "outputs": [
    {
     "data": {
      "text/plain": [
       "93"
      ]
     },
     "execution_count": 22,
     "metadata": {},
     "output_type": "execute_result"
    }
   ],
   "source": [
    "table.remove('kzwyg')"
   ]
  },
  {
   "cell_type": "code",
   "execution_count": 23,
   "metadata": {},
   "outputs": [
    {
     "name": "stdout",
     "output_type": "stream",
     "text": [
      "<Node: (apwwx, 68), next: True>\n",
      "<Node: (easj, 75), next: True>\n",
      "<Node: (gbcqe, 87), next: True>\n"
     ]
    }
   ],
   "source": [
    "print(table.buckets[0])\n",
    "print(table.buckets[0].next)\n",
    "print(table.buckets[0].next.next)"
   ]
  }
 ],
 "metadata": {
  "interpreter": {
   "hash": "0196cdf83640a6e46297d473cb3ef53da006e045272bee5d8db156007640eae3"
  },
  "kernelspec": {
   "display_name": "Python 3.8.8 64-bit ('base': conda)",
   "language": "python",
   "name": "python3"
  },
  "language_info": {
   "codemirror_mode": {
    "name": "ipython",
    "version": 3
   },
   "file_extension": ".py",
   "mimetype": "text/x-python",
   "name": "python",
   "nbconvert_exporter": "python",
   "pygments_lexer": "ipython3",
   "version": "3.8.8"
  },
  "orig_nbformat": 4
 },
 "nbformat": 4,
 "nbformat_minor": 2
}
